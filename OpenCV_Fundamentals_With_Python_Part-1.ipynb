{
 "cells": [
  {
   "cell_type": "markdown",
   "id": "f47a5420",
   "metadata": {},
   "source": [
    "<p style=\"background-color:lightgreen;font-family:newtimeroman;font-size:30px;line-height:1.7em;text-align:center;border-radius:5px 5px\">OpenCV_Fundamentals_With_Python_Part-1</p>"
   ]
  },
  {
   "cell_type": "markdown",
   "id": "e0c361fc",
   "metadata": {},
   "source": [
    "__VENKATESH MUNGI__venkateshmungi147@gmail.com"
   ]
  },
  {
   "cell_type": "markdown",
   "id": "7670e7a0",
   "metadata": {},
   "source": [
    "___1. Reading/ loading an Image___\n",
    "\n",
    "___2. Displaying an Image___\n",
    "\n",
    "___3. Displaying an image for sometime___\n",
    "\n",
    "___4. Closing an Image___"
   ]
  },
  {
   "cell_type": "code",
   "execution_count": 1,
   "id": "8d6a09b5",
   "metadata": {},
   "outputs": [],
   "source": [
    "# Importing required libraries\n",
    "import numpy as np\n",
    "import cv2 \n",
    "my_car = cv2.imread(r\"C:\\\\PYTHON\\\\AI_ML\\\\OpenCV\\\\lamborghini.jpeg\")\n",
    "cv2.imshow('This is My Car', my_car) \n",
    "cv2.waitKey(0)\n",
    "cv2.destroyAllWindows()"
   ]
  },
  {
   "cell_type": "markdown",
   "id": "6b63fb3d",
   "metadata": {},
   "source": [
    "___cv2.imread():___ \n",
    "\n",
    "This function will help us to load/read the image from the specified path. For this you have to download the image which you want to display and store it in a place, where you want. give that particular path in cv2.imread function as shown above. If th image is missing, or not in specified path, or is in unsupported or in invalid format, or it hasn't permission then the image can not be read and this method return as empty maatrix.\n",
    "\n",
    "___cv2.imshow():___\n",
    "\n",
    "This function will display our image. Here \"This is My Car\" parameter is my title and it will bw shown on image window and the second perameter \"my_car\" is a variable which, I used to store my image before.\n",
    "\n",
    "___cv2.waitkey():___ \n",
    "\n",
    "1. waitKey(0) will display the window infinitely until any keypress (it is suitable for image display).\n",
    "\n",
    "2. waitKey(1) will display a frame for 1 ms, after which display will be automatically closed. Since the OS has a minimum time between switching threads, the function will not wait exactly 1 ms, it will wait at least 1 ms, depending on what else is running on your computer at that time.\n",
    "\n",
    "3. So, if you use waitKey(0) you see a still image until you actually press something while for waitKey(1) the function will show a frame for at least 1 ms only.\n",
    "\n",
    "___cv2.destroyAllWindows():___\n",
    "\n",
    "1. This function is used to closes all open windows. If w fail to close open windows (because OpenCV opens images/videos in new window) it cause to hang our system.\n",
    "\n",
    "2. Indeed this placing this function is best practice.\n",
    "\n",
    "3. If we use this function before cv2.waitKey() the image won't display."
   ]
  },
  {
   "cell_type": "markdown",
   "id": "cd6bc16c",
   "metadata": {},
   "source": [
    "___5. Let us know how the image can be stored in backgroung___"
   ]
  },
  {
   "cell_type": "raw",
   "id": "51701e8f",
   "metadata": {},
   "source": [
    "my_car.shape"
   ]
  },
  {
   "cell_type": "markdown",
   "id": "1c82664b",
   "metadata": {},
   "source": [
    "- 'my_car' image is stord as 1000 pixels height and 1500 pixels wide. '3' means other three components which were made this image are 'RGB'."
   ]
  },
  {
   "cell_type": "code",
   "execution_count": 2,
   "id": "fdd3f19f",
   "metadata": {},
   "outputs": [
    {
     "name": "stdout",
     "output_type": "stream",
     "text": [
      "Height of Image: 1000 pixels\n",
      "Width of Image:  1500 pixels\n"
     ]
    }
   ],
   "source": [
    "# Let's know more clear about this image dimensions\n",
    "print ('Height of Image:', int(my_car.shape[0]), 'pixels')\n",
    "print ('Width of Image: ', int(my_car.shape[1]), 'pixels')"
   ]
  },
  {
   "cell_type": "markdown",
   "id": "aa7529bb",
   "metadata": {},
   "source": [
    "___6. Saving image___"
   ]
  },
  {
   "cell_type": "code",
   "execution_count": 3,
   "id": "49ba1e21",
   "metadata": {},
   "outputs": [
    {
     "data": {
      "text/plain": [
       "True"
      ]
     },
     "execution_count": 3,
     "metadata": {},
     "output_type": "execute_result"
    }
   ],
   "source": [
    "cv2.imwrite('output.jpg', my_car)\n",
    "cv2.imwrite('output.png', my_car)"
   ]
  },
  {
   "cell_type": "markdown",
   "id": "12455e1f",
   "metadata": {},
   "source": [
    "___cv2.imwrite():___\n",
    "    \n",
    "This function is used to save an image to a specified file and in specified format.\n",
    "\n",
    "OpenCV supporting image formats are:\n",
    "\n",
    "    Window bitmaps - *.bmp, *.dib\n",
    "\n",
    "    JPEG files - *.jpeg, *.jpg, *.jpe\n",
    "\n",
    "    Portable Network Graphics - *.png\n",
    "\n",
    "    Portable image format- *.pbm, *.pgm, *.ppm\n",
    "\n",
    "    TIFF files - *.tiff, *.tif\n",
    "\n",
    "If the imwrite() function returns the True, which means the file is successfully written in the specified file."
   ]
  },
  {
   "cell_type": "markdown",
   "id": "a3686eae",
   "metadata": {},
   "source": [
    "___7. Converting Image to Gray Scale___"
   ]
  },
  {
   "cell_type": "code",
   "execution_count": 4,
   "id": "af71a2d0",
   "metadata": {},
   "outputs": [],
   "source": [
    "# Method One\n",
    "my_car = cv2.imread(r\"C:\\\\PYTHON\\\\AI_ML\\\\OpenCV\\\\lamborghini.jpeg\", 0)\n",
    "cv2.imshow('my_car in Grayscale', my_car)\n",
    "cv2.waitKey()\n",
    "cv2.destroyAllWindows()"
   ]
  },
  {
   "cell_type": "code",
   "execution_count": 5,
   "id": "1466e243",
   "metadata": {},
   "outputs": [],
   "source": [
    "# Second Method\n",
    "gray_image = cv2.cvtColor(my_car, cv2.COLOR_BGR2GRAY)\n",
    "cv2.imshow('my_car in Grayscale', gray_image)\n",
    "cv2.waitKey()\n",
    "cv2.destroyAllWindows()"
   ]
  },
  {
   "cell_type": "code",
   "execution_count": 6,
   "id": "f1d7e3e0",
   "metadata": {},
   "outputs": [],
   "source": [
    "# Third Method\n",
    "mycar = cv2.imread(r\"C:\\\\PYTHON\\\\AI_ML\\\\OpenCV\\\\lamborghini.jpeg\", cv2.IMREAD_GRAYSCALE)\n",
    "cv2.imshow('my_car in Grayscale', mycar)\n",
    "cv2.waitKey()\n",
    "cv2.destroyAllWindows()"
   ]
  },
  {
   "cell_type": "markdown",
   "id": "f1ba0490",
   "metadata": {},
   "source": [
    "- Simply if you want to convert gray scale images to color use \"cv2.IMREAD_COLOR\" parameter."
   ]
  },
  {
   "cell_type": "code",
   "execution_count": null,
   "id": "093498c4",
   "metadata": {},
   "outputs": [],
   "source": []
  }
 ],
 "metadata": {
  "kernelspec": {
   "display_name": "Python 3 (ipykernel)",
   "language": "python",
   "name": "python3"
  },
  "language_info": {
   "codemirror_mode": {
    "name": "ipython",
    "version": 3
   },
   "file_extension": ".py",
   "mimetype": "text/x-python",
   "name": "python",
   "nbconvert_exporter": "python",
   "pygments_lexer": "ipython3",
   "version": "3.10.4"
  }
 },
 "nbformat": 4,
 "nbformat_minor": 5
}
